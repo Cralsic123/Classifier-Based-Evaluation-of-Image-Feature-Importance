{
  "nbformat": 4,
  "nbformat_minor": 0,
  "metadata": {
    "colab": {
      "provenance": [],
      "gpuType": "T4",
      "authorship_tag": "ABX9TyNVvWAnB2MDR8hGt6SW1Hb/",
      "include_colab_link": true
    },
    "kernelspec": {
      "name": "python3",
      "display_name": "Python 3"
    },
    "language_info": {
      "name": "python"
    },
    "accelerator": "GPU"
  },
  "cells": [
    {
      "cell_type": "markdown",
      "metadata": {
        "id": "view-in-github",
        "colab_type": "text"
      },
      "source": [
        "<a href=\"https://colab.research.google.com/github/Cralsic123/Classifier-Based-Evaluation-of-Image-Feature-Importance/blob/main/Classifier_Based_Evaluation_of_Image_Feature_Importance.ipynb\" target=\"_parent\"><img src=\"https://colab.research.google.com/assets/colab-badge.svg\" alt=\"Open In Colab\"/></a>"
      ]
    },
    {
      "cell_type": "code",
      "execution_count": 1,
      "metadata": {
        "id": "xDVw_mBCr8Ro"
      },
      "outputs": [],
      "source": [
        "import cv2\n",
        "import numpy as np\n",
        "from skimage.metrics import structural_similarity as ssim\n",
        "from sklearn.metrics import mean_squared_error\n",
        "from sklearn.metrics import accuracy_score"
      ]
    },
    {
      "cell_type": "code",
      "source": [],
      "metadata": {
        "id": "wvUap_vuyzkr"
      },
      "execution_count": null,
      "outputs": []
    },
    {
      "cell_type": "code",
      "source": [
        "original_image = cv2.imread('/content/Kitten/kitten.jpeg')\n",
        "explanation_heatmaps = [\n",
        "    cv2.imread('/content/Kitten/Superimposed.png'),\n",
        "    cv2.imread('/content/Kitten/Segmentation1.png'),\n",
        "    cv2.imread('/content/Kitten/Score-CAM.png'),\n",
        "    cv2.imread('/content/Kitten/LIME1.png'),\n",
        "    cv2.imread('/content/Kitten/Faster-Score-CAM.png'),\n",
        "    cv2.imread('/content/Kitten/Grad-CAM++.png'),\n",
        "    cv2.imread('/content/Kitten/Grad-CAM.png')\n",
        "]"
      ],
      "metadata": {
        "id": "_yCxruZTwmIn"
      },
      "execution_count": 2,
      "outputs": []
    },
    {
      "cell_type": "markdown",
      "source": [
        "Trying to use thresholding to segment the ROI based on brightness"
      ],
      "metadata": {
        "id": "4MMWvAHCyFQe"
      }
    },
    {
      "cell_type": "code",
      "source": [
        "gray_image = cv2.cvtColor(original_image, cv2.COLOR_BGR2GRAY)\n",
        "_, binary_threshold = cv2.threshold(gray_image, 200, 255, cv2.THRESH_BINARY)\n",
        "\n",
        "# Find contours in the binary image\n",
        "contours, _ = cv2.findContours(binary_threshold, cv2.RETR_EXTERNAL, cv2.CHAIN_APPROX_SIMPLE)\n",
        "\n",
        "# Find the largest contour (assumed to be the ROI)\n",
        "largest_contour = max(contours, key=cv2.contourArea)\n",
        "\n",
        "# Create a mask for the ROI\n",
        "roi_mask = np.zeros_like(gray_image)\n",
        "cv2.drawContours(roi_mask, [largest_contour], -1, 255, thickness=cv2.FILLED)\n",
        "\n",
        "# Apply the mask to the original image to extract the ROI\n",
        "segmented_roi = cv2.bitwise_and(original_image, original_image, mask=roi_mask)\n",
        "\n",
        "# Display the segmented ROI\n",
        "cv2.imshow('Segmented ROI', segmented_roi)\n",
        "cv2.waitKey(0)\n",
        "cv2.destroyAllWindows()\n",
        "\n",
        "# You can then use segmented_roi as the original_roi for further processing\n",
        "original_roi = cv2.cvtColor(segmented_roi, cv2.COLOR_BGR2GRAY)"
      ],
      "metadata": {
        "id": "rPJmwaA6wmGR"
      },
      "execution_count": null,
      "outputs": []
    },
    {
      "cell_type": "code",
      "source": [
        "import numpy as np\n",
        "from scipy import misc, ndimage\n",
        "\n",
        "# Load the images\n",
        "grad_cam = misc.imread('/content/Kitten/Grad-CAM.png')  # Assuming Grad-CAM.png is the filename of your Grad-CAM image\n",
        "kitten = misc.imread('/content/Kitten/kitten.jpeg')  # Assuming Kitten.jpeg is the filename of your ground truth image\n",
        "\n",
        "# Get the dimensions of the ground truth image\n",
        "gt_height, gt_width, _ = kitten.shape\n",
        "\n",
        "# Get the dimensions of the Grad-CAM image\n",
        "cam_height, cam_width, _ = grad_cam.shape\n",
        "\n",
        "# Calculate the scaling factors for zooming\n",
        "scale_height = gt_height / cam_height\n",
        "scale_width = gt_width / cam_width\n",
        "\n",
        "# Zoom the Grad-CAM image\n",
        "zoomed_cam = ndimage.zoom(grad_cam, (scale_height, scale_width, 1))\n",
        "\n",
        "# Save or display the zoomed Grad-CAM image\n",
        "misc.imsave('Zoomed_Grad_CAM.png', zoomed_cam)  # Save the zoomed image to a file\n",
        "# or\n",
        "# plt.imshow(zoomed_cam)  # Display the zoomed image using matplotlib\n",
        "# plt.show()\n"
      ],
      "metadata": {
        "colab": {
          "base_uri": "https://localhost:8080/",
          "height": 430
        },
        "id": "RuCGU5_LwmDq",
        "outputId": "30a18003-11fa-4135-c7b7-8bc9fcad70b4"
      },
      "execution_count": 3,
      "outputs": [
        {
          "output_type": "error",
          "ename": "AttributeError",
          "evalue": "scipy.misc is deprecated and has no attribute imread.",
          "traceback": [
            "\u001b[0;31m---------------------------------------------------------------------------\u001b[0m",
            "\u001b[0;31mAttributeError\u001b[0m                            Traceback (most recent call last)",
            "\u001b[0;32m<ipython-input-3-c5761539180d>\u001b[0m in \u001b[0;36m<cell line: 5>\u001b[0;34m()\u001b[0m\n\u001b[1;32m      3\u001b[0m \u001b[0;34m\u001b[0m\u001b[0m\n\u001b[1;32m      4\u001b[0m \u001b[0;31m# Load the images\u001b[0m\u001b[0;34m\u001b[0m\u001b[0;34m\u001b[0m\u001b[0m\n\u001b[0;32m----> 5\u001b[0;31m \u001b[0mgrad_cam\u001b[0m \u001b[0;34m=\u001b[0m \u001b[0mmisc\u001b[0m\u001b[0;34m.\u001b[0m\u001b[0mimread\u001b[0m\u001b[0;34m(\u001b[0m\u001b[0;34m'/content/Kitten/Grad-CAM.png'\u001b[0m\u001b[0;34m)\u001b[0m  \u001b[0;31m# Assuming Grad-CAM.png is the filename of your Grad-CAM image\u001b[0m\u001b[0;34m\u001b[0m\u001b[0;34m\u001b[0m\u001b[0m\n\u001b[0m\u001b[1;32m      6\u001b[0m \u001b[0mkitten\u001b[0m \u001b[0;34m=\u001b[0m \u001b[0mmisc\u001b[0m\u001b[0;34m.\u001b[0m\u001b[0mimread\u001b[0m\u001b[0;34m(\u001b[0m\u001b[0;34m'/content/Kitten/kitten.jpeg'\u001b[0m\u001b[0;34m)\u001b[0m  \u001b[0;31m# Assuming Kitten.jpeg is the filename of your ground truth image\u001b[0m\u001b[0;34m\u001b[0m\u001b[0;34m\u001b[0m\u001b[0m\n\u001b[1;32m      7\u001b[0m \u001b[0;34m\u001b[0m\u001b[0m\n",
            "\u001b[0;32m/usr/local/lib/python3.10/dist-packages/scipy/misc/__init__.py\u001b[0m in \u001b[0;36m__getattr__\u001b[0;34m(name)\u001b[0m\n\u001b[1;32m     43\u001b[0m \u001b[0;32mdef\u001b[0m \u001b[0m__getattr__\u001b[0m\u001b[0;34m(\u001b[0m\u001b[0mname\u001b[0m\u001b[0;34m)\u001b[0m\u001b[0;34m:\u001b[0m\u001b[0;34m\u001b[0m\u001b[0;34m\u001b[0m\u001b[0m\n\u001b[1;32m     44\u001b[0m     \u001b[0;32mif\u001b[0m \u001b[0mname\u001b[0m \u001b[0;32mnot\u001b[0m \u001b[0;32min\u001b[0m \u001b[0m__all__\u001b[0m\u001b[0;34m:\u001b[0m\u001b[0;34m\u001b[0m\u001b[0;34m\u001b[0m\u001b[0m\n\u001b[0;32m---> 45\u001b[0;31m         raise AttributeError(\n\u001b[0m\u001b[1;32m     46\u001b[0m             \u001b[0;34m\"scipy.misc is deprecated and has no attribute \"\u001b[0m\u001b[0;34m\u001b[0m\u001b[0;34m\u001b[0m\u001b[0m\n\u001b[1;32m     47\u001b[0m             f\"{name}.\")\n",
            "\u001b[0;31mAttributeError\u001b[0m: scipy.misc is deprecated and has no attribute imread."
          ]
        }
      ]
    },
    {
      "cell_type": "code",
      "source": [
        "import numpy as np\n",
        "import imageio\n",
        "from scipy import ndimage\n",
        "\n",
        "# Load the images\n",
        "grad_cam = imageio.imread('/content/Kitten/Grad-CAM.png')  # Assuming Grad-CAM.png is the filename of your Grad-CAM image\n",
        "kitten = imageio.imread('/content/Kitten/kitten.jpeg')  # Assuming Kitten.jpeg is the filename of your ground truth image\n",
        "\n",
        "# Get the dimensions of the ground truth image\n",
        "gt_height, gt_width, _ = kitten.shape\n",
        "\n",
        "# Get the dimensions of the Grad-CAM image\n",
        "cam_height, cam_width, _ = grad_cam.shape\n",
        "\n",
        "# Calculate the scaling factors for zooming\n",
        "scale_height = gt_height / cam_height\n",
        "scale_width = gt_width / cam_width\n",
        "\n",
        "# Zoom the Grad-CAM image\n",
        "zoomed_cam = ndimage.zoom(grad_cam, (scale_height, scale_width, 1))\n",
        "\n",
        "# Save or display the zoomed Grad-CAM image\n",
        "imageio.imsave('Zoomed_Grad_CAM.png', zoomed_cam)  # Save the zoomed image to a file\n",
        "# or\n",
        "# plt.imshow(zoomed_cam)  # Display the zoomed image using matplotlib\n",
        "# plt.show()\n"
      ],
      "metadata": {
        "colab": {
          "base_uri": "https://localhost:8080/"
        },
        "id": "wn8ynyfnwmBP",
        "outputId": "48e58410-94db-4232-84cf-381a255fd373"
      },
      "execution_count": 4,
      "outputs": [
        {
          "output_type": "stream",
          "name": "stderr",
          "text": [
            "<ipython-input-4-39100cbaa88a>:6: DeprecationWarning: Starting with ImageIO v3 the behavior of this function will switch to that of iio.v3.imread. To keep the current behavior (and make this warning disappear) use `import imageio.v2 as imageio` or call `imageio.v2.imread` directly.\n",
            "  grad_cam = imageio.imread('/content/Kitten/Grad-CAM.png')  # Assuming Grad-CAM.png is the filename of your Grad-CAM image\n",
            "<ipython-input-4-39100cbaa88a>:7: DeprecationWarning: Starting with ImageIO v3 the behavior of this function will switch to that of iio.v3.imread. To keep the current behavior (and make this warning disappear) use `import imageio.v2 as imageio` or call `imageio.v2.imread` directly.\n",
            "  kitten = imageio.imread('/content/Kitten/kitten.jpeg')  # Assuming Kitten.jpeg is the filename of your ground truth image\n"
          ]
        }
      ]
    },
    {
      "cell_type": "code",
      "source": [],
      "metadata": {
        "id": "o7qJl56Ewl-n"
      },
      "execution_count": null,
      "outputs": []
    },
    {
      "cell_type": "code",
      "source": [],
      "metadata": {
        "id": "tFB3UHu5wl8f"
      },
      "execution_count": null,
      "outputs": []
    },
    {
      "cell_type": "code",
      "source": [],
      "metadata": {
        "id": "ihFCmYJKwl6L"
      },
      "execution_count": null,
      "outputs": []
    },
    {
      "cell_type": "code",
      "source": [],
      "metadata": {
        "id": "p8rCGSffwlSW"
      },
      "execution_count": null,
      "outputs": []
    }
  ]
}